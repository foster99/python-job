{
 "cells": [
  {
   "cell_type": "markdown",
   "id": "8d794f8d-b37c-42b8-a666-9c63436fe212",
   "metadata": {},
   "source": [
    "## Imports"
   ]
  },
  {
   "cell_type": "code",
   "execution_count": 126,
   "id": "e9bdf137-ac4e-4567-a4ea-844053a64ded",
   "metadata": {},
   "outputs": [],
   "source": [
    "import numpy as np\n",
    "import pandas as pd\n",
    "import seaborn as sn\n",
    "import matplotlib.pyplot as plt\n",
    "from scipy import stats\n",
    "import warnings\n",
    "warnings.filterwarnings('ignore')"
   ]
  },
  {
   "cell_type": "markdown",
   "id": "51c3dad7-103c-4e84-bcc4-f5e119131cef",
   "metadata": {},
   "source": [
    "## Read Data"
   ]
  },
  {
   "cell_type": "code",
   "execution_count": 127,
   "id": "cf0c806d-2480-4be7-91eb-fa41c9cd35b5",
   "metadata": {},
   "outputs": [],
   "source": [
    "df = pd.read_json(r'./restaurant_prices.json')\n",
    "df = df.transpose()\n",
    "df = df.iloc[:, [1,0]]"
   ]
  },
  {
   "cell_type": "markdown",
   "id": "720aa3b0-1ba9-43be-b450-4071f9ef474d",
   "metadata": {},
   "source": [
    "## Data Info"
   ]
  },
  {
   "cell_type": "code",
   "execution_count": 128,
   "id": "9f606e03-17aa-4097-a246-88d3b7ffc6ce",
   "metadata": {},
   "outputs": [
    {
     "data": {
      "text/html": [
       "<div>\n",
       "<style scoped>\n",
       "    .dataframe tbody tr th:only-of-type {\n",
       "        vertical-align: middle;\n",
       "    }\n",
       "\n",
       "    .dataframe tbody tr th {\n",
       "        vertical-align: top;\n",
       "    }\n",
       "\n",
       "    .dataframe thead th {\n",
       "        text-align: right;\n",
       "    }\n",
       "</style>\n",
       "<table border=\"1\" class=\"dataframe\">\n",
       "  <thead>\n",
       "    <tr style=\"text-align: right;\">\n",
       "      <th></th>\n",
       "      <th>city_name</th>\n",
       "      <th>price</th>\n",
       "    </tr>\n",
       "  </thead>\n",
       "  <tbody>\n",
       "    <tr>\n",
       "      <th>0</th>\n",
       "      <td>Barcelona</td>\n",
       "      <td>15.0</td>\n",
       "    </tr>\n",
       "    <tr>\n",
       "      <th>1</th>\n",
       "      <td>Barcelona</td>\n",
       "      <td>11.5</td>\n",
       "    </tr>\n",
       "    <tr>\n",
       "      <th>2</th>\n",
       "      <td>Valencia</td>\n",
       "      <td>15.0</td>\n",
       "    </tr>\n",
       "    <tr>\n",
       "      <th>3</th>\n",
       "      <td>Barcelona</td>\n",
       "      <td>15.8</td>\n",
       "    </tr>\n",
       "    <tr>\n",
       "      <th>4</th>\n",
       "      <td>Barcelona</td>\n",
       "      <td>70.0</td>\n",
       "    </tr>\n",
       "  </tbody>\n",
       "</table>\n",
       "</div>"
      ],
      "text/plain": [
       "   city_name price\n",
       "0  Barcelona  15.0\n",
       "1  Barcelona  11.5\n",
       "2   Valencia  15.0\n",
       "3  Barcelona  15.8\n",
       "4  Barcelona  70.0"
      ]
     },
     "execution_count": 128,
     "metadata": {},
     "output_type": "execute_result"
    }
   ],
   "source": [
    "df.head(5)"
   ]
  },
  {
   "cell_type": "code",
   "execution_count": 129,
   "id": "27364ae1-b8bd-4cb9-943c-ebd0784258dc",
   "metadata": {},
   "outputs": [
    {
     "name": "stdout",
     "output_type": "stream",
     "text": [
      "<class 'pandas.core.frame.DataFrame'>\n",
      "Int64Index: 15246 entries, 0 to 15245\n",
      "Data columns (total 2 columns):\n",
      " #   Column     Non-Null Count  Dtype \n",
      "---  ------     --------------  ----- \n",
      " 0   city_name  15246 non-null  object\n",
      " 1   price      15246 non-null  object\n",
      "dtypes: object(2)\n",
      "memory usage: 873.4+ KB\n"
     ]
    }
   ],
   "source": [
    "df.info()"
   ]
  },
  {
   "cell_type": "code",
   "execution_count": 130,
   "id": "d47c4532-7459-4130-b1a4-9ffcf1d6c5d5",
   "metadata": {},
   "outputs": [
    {
     "data": {
      "text/html": [
       "<div>\n",
       "<style scoped>\n",
       "    .dataframe tbody tr th:only-of-type {\n",
       "        vertical-align: middle;\n",
       "    }\n",
       "\n",
       "    .dataframe tbody tr th {\n",
       "        vertical-align: top;\n",
       "    }\n",
       "\n",
       "    .dataframe thead th {\n",
       "        text-align: right;\n",
       "    }\n",
       "</style>\n",
       "<table border=\"1\" class=\"dataframe\">\n",
       "  <thead>\n",
       "    <tr style=\"text-align: right;\">\n",
       "      <th></th>\n",
       "      <th>city_name</th>\n",
       "      <th>price</th>\n",
       "    </tr>\n",
       "  </thead>\n",
       "  <tbody>\n",
       "    <tr>\n",
       "      <th>count</th>\n",
       "      <td>15246</td>\n",
       "      <td>15246.0</td>\n",
       "    </tr>\n",
       "    <tr>\n",
       "      <th>unique</th>\n",
       "      <td>2</td>\n",
       "      <td>594.0</td>\n",
       "    </tr>\n",
       "    <tr>\n",
       "      <th>top</th>\n",
       "      <td>Barcelona</td>\n",
       "      <td>15.0</td>\n",
       "    </tr>\n",
       "    <tr>\n",
       "      <th>freq</th>\n",
       "      <td>11029</td>\n",
       "      <td>1428.0</td>\n",
       "    </tr>\n",
       "  </tbody>\n",
       "</table>\n",
       "</div>"
      ],
      "text/plain": [
       "        city_name    price\n",
       "count       15246  15246.0\n",
       "unique          2    594.0\n",
       "top     Barcelona     15.0\n",
       "freq        11029   1428.0"
      ]
     },
     "execution_count": 130,
     "metadata": {},
     "output_type": "execute_result"
    }
   ],
   "source": [
    "df.describe()"
   ]
  },
  {
   "cell_type": "markdown",
   "id": "5a361655-cd0f-4c4c-b131-6423481e80a1",
   "metadata": {},
   "source": [
    "## Statistics"
   ]
  },
  {
   "cell_type": "markdown",
   "id": "32f46d53-7cfa-461e-bc87-221a1331d3b1",
   "metadata": {},
   "source": [
    "### Compute Mean"
   ]
  },
  {
   "cell_type": "code",
   "execution_count": 131,
   "id": "be6da534-c5da-4ddf-9e79-c1f005a49e0b",
   "metadata": {},
   "outputs": [
    {
     "name": "stdout",
     "output_type": "stream",
     "text": [
      "Average restaurant price in Barcelona: \n",
      " -> 21.41 euros/meal\n"
     ]
    }
   ],
   "source": [
    "bcn_df = df[df['city_name'] == 'Barcelona']\n",
    "mean = bcn_df['price'].mean()\n",
    "\n",
    "print(f\"Average restaurant price in Barcelona: \\n -> {round(mean,2)} euros/meal\")"
   ]
  },
  {
   "cell_type": "markdown",
   "id": "c82e3440-7f84-47d3-b58c-62fd70f90744",
   "metadata": {},
   "source": [
    "### Plots"
   ]
  },
  {
   "cell_type": "code",
   "execution_count": 132,
   "id": "95a9fe6e-01e6-46a9-9a1c-6d1a4616c23d",
   "metadata": {},
   "outputs": [
    {
     "data": {
      "image/png": "[encoded data removed]",
      "text/plain": [
       "<Figure size 1080x360 with 1 Axes>"
      ]
     },
     "metadata": {
      "needs_background": "light"
     },
     "output_type": "display_data"
    },
    {
     "data": {
      "image/png": "[encoded data removed]",
      "text/plain": [
       "<Figure size 1080x360 with 1 Axes>"
      ]
     },
     "metadata": {
      "needs_background": "light"
     },
     "output_type": "display_data"
    }
   ],
   "source": [
    "plt.rcParams['figure.figsize']=(15,5)\n",
    "sn.boxplot(x=\"price\", data=bcn_df).set_title('Restaurant Price');\n",
    "plt.figure(figsize=(15,5))\n",
    "plt.subplot(1,1,1)\n",
    "sn.distplot(df['price'])\n",
    "plt.show()"
   ]
  },
  {
   "cell_type": "markdown",
   "id": "3622a45e-a02a-4f89-9de5-51a6e04b0cf0",
   "metadata": {},
   "source": [
    "We clearly only have outliers in the expensive restaurants side. (See black dots in the boxplot)\n",
    "In spite of the fact that statistically we have a big amount of outliers, the data is probably correct, because there exists a lot of expensive restaurants in Barcelona, but they are a minority in front the group of regular ones.\n",
    "\n",
    "In order to remove the outliers, we are going to determine a threshold and trim de dataset according to it. We are going to play with this limit, trying to determine the exact quantile value that drops the extreme values."
   ]
  },
  {
   "cell_type": "code",
   "execution_count": 133,
   "id": "a11a2b0f-a5c6-434f-8176-2ae686d67582",
   "metadata": {},
   "outputs": [
    {
     "name": "stdout",
     "output_type": "stream",
     "text": [
      "Upper-limit = 91.0 euros/meal\n",
      "There are 86 over the upper-limit\n"
     ]
    },
    {
     "data": {
      "image/png": "[encoded data removed]",
      "text/plain": [
       "<Figure size 1080x360 with 1 Axes>"
      ]
     },
     "metadata": {
      "needs_background": "light"
     },
     "output_type": "display_data"
    }
   ],
   "source": [
    "alpha = 0.01\n",
    "upper_limit = bcn_df['price'].quantile(1 - alpha)\n",
    "N_over_upper = len(bcn_df[bcn_df['price'] > upper_limit])\n",
    "\n",
    "print(f\"Upper-limit = {round(upper_limit, 2)} euros/meal\")\n",
    "print(f\"There are {N_over_upper} over the upper-limit\")\n",
    "\n",
    "plt.rcParams['figure.figsize']=(15,5)\n",
    "sn.boxplot(x=\"price\", data=bcn_df[bcn_df['price'] < upper_limit]).set_title('Restaurant Price');"
   ]
  },
  {
   "cell_type": "markdown",
   "id": "8b8ab5bc-0f6c-44e3-89fe-1c01132fa11c",
   "metadata": {},
   "source": [
    "We continue having a big amount of outliers. Let's try to increase the alpha value."
   ]
  },
  {
   "cell_type": "code",
   "execution_count": 134,
   "id": "31310715-c4f2-4978-aedc-db2f9827e58c",
   "metadata": {},
   "outputs": [
    {
     "name": "stdout",
     "output_type": "stream",
     "text": [
      "Upper-limit = 35.4 euros/meal\n",
      "There are 1346 over the upper-limit\n"
     ]
    },
    {
     "data": {
      "image/png": "[encoded data removed]",
      "text/plain": [
       "<Figure size 1080x360 with 1 Axes>"
      ]
     },
     "metadata": {
      "needs_background": "light"
     },
     "output_type": "display_data"
    }
   ],
   "source": [
    "alpha = 0.124\n",
    "\n",
    "upper_limit = bcn_df['price'].quantile(1 - alpha)\n",
    "N_over_upper = len(bcn_df[bcn_df['price'] > upper_limit])\n",
    "\n",
    "print(f\"Upper-limit = {round(upper_limit, 2)} euros/meal\")\n",
    "print(f\"There are {N_over_upper} over the upper-limit\")\n",
    "\n",
    "plt.rcParams['figure.figsize']=(15,5)\n",
    "sn.boxplot(x=\"price\", data=bcn_df[bcn_df['price'] < upper_limit]).set_title('Regular Restaurant Price');"
   ]
  },
  {
   "cell_type": "markdown",
   "id": "18c7ee19-5835-45e4-8b37-6125e6f15eee",
   "metadata": {},
   "source": [
    "With a value of alpha = 0.124, we have just a couple of outliers. By just increasing the alpha value to 0.1245, we are able to discard all the outlier values with a total upper-limit of 35.25 euros/meal."
   ]
  },
  {
   "cell_type": "code",
   "execution_count": 135,
   "id": "3f2f508d-5111-4288-b834-d836d98110ba",
   "metadata": {},
   "outputs": [
    {
     "name": "stdout",
     "output_type": "stream",
     "text": [
      "Upper-limit = 35.25 euros/meal\n",
      "There are 1373 over the upper-limit\n"
     ]
    },
    {
     "data": {
      "image/png": "[encoded data removed]",
      "text/plain": [
       "<Figure size 1080x360 with 1 Axes>"
      ]
     },
     "metadata": {
      "needs_background": "light"
     },
     "output_type": "display_data"
    }
   ],
   "source": [
    "alpha = 0.1245\n",
    "\n",
    "upper_limit = bcn_df['price'].quantile(1 - alpha)\n",
    "N_over_upper = len(bcn_df[bcn_df['price'] > upper_limit])\n",
    "\n",
    "print(f\"Upper-limit = {round(upper_limit, 2)} euros/meal\")\n",
    "print(f\"There are {N_over_upper} over the upper-limit\")\n",
    "\n",
    "plt.rcParams['figure.figsize']=(15,5)\n",
    "sn.boxplot(x=\"price\", data=bcn_df[bcn_df['price'] < upper_limit]).set_title('Regular Restaurant Price');"
   ]
  },
  {
   "cell_type": "markdown",
   "id": "26a560a8-7800-47da-93f2-6ccf0ec57359",
   "metadata": {},
   "source": [
    "\n",
    "### Extra\n",
    "It is also curious that, given the big amount of discarded restaurants (the expensive ones), we are able to generate another little dataset with them."
   ]
  },
  {
   "cell_type": "code",
   "execution_count": 136,
   "id": "03023220-14fc-4fd8-9298-2d664a611a90",
   "metadata": {},
   "outputs": [
    {
     "data": {
      "image/png": "[encoded data removed]",
      "text/plain": [
       "<Figure size 1080x360 with 1 Axes>"
      ]
     },
     "metadata": {
      "needs_background": "light"
     },
     "output_type": "display_data"
    }
   ],
   "source": [
    "outlier_bcn_df = bcn_df[bcn_df['price'] > upper_limit]\n",
    "outlier_bcn_df.describe()\n",
    "sn.boxplot(x=\"price\", data=outlier_bcn_df).set_title('Expensive Restaurants Price');"
   ]
  }
 ],
 "metadata": {
  "kernelspec": {
   "display_name": "Python 3 (ipykernel)",
   "language": "python",
   "name": "python3"
  },
  "language_info": {
   "codemirror_mode": {
    "name": "ipython",
    "version": 3
   },
   "file_extension": ".py",
   "mimetype": "text/x-python",
   "name": "python",
   "nbconvert_exporter": "python",
   "pygments_lexer": "ipython3",
   "version": "3.9.7"
  }
 },
 "nbformat": 4,
 "nbformat_minor": 5
}
